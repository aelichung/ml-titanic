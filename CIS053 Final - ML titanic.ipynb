{
 "cells": [
  {
   "cell_type": "markdown",
   "id": "24d6f46d05fe3280",
   "metadata": {},
   "source": [
    "# CIS053 Final Project - ML Titanic\n",
    "Anne-Elise Chung\n",
    "Hernanda Mak"
   ]
  },
  {
   "cell_type": "markdown",
   "id": "d20eb7fde3b06350",
   "metadata": {},
   "source": [
    "## Executive Summary"
   ]
  },
  {
   "cell_type": "markdown",
   "id": "1da1b52cae6df832",
   "metadata": {},
   "source": [
    "## Background\n"
   ]
  },
  {
   "cell_type": "markdown",
   "id": "b9e97cacded21e0c",
   "metadata": {},
   "source": [
    "## Survey of Existing Work\n"
   ]
  },
  {
   "cell_type": "markdown",
   "id": "87ea77fcaebd7b16",
   "metadata": {},
   "source": [
    "## Our Approach\n"
   ]
  },
  {
   "cell_type": "markdown",
   "id": "e4b37c294d441fca",
   "metadata": {},
   "source": [
    "## Code and Results\n"
   ]
  },
  {
   "cell_type": "code",
   "execution_count": 1,
   "id": "689293cf",
   "metadata": {},
   "outputs": [],
   "source": [
    "import pandas as pd\n",
    "from pandas import read_csv\n",
    "import matplotlib.pyplot as plt\n",
    "from numpy import set_printoptions\n",
    "from pandas import set_option\n",
    "from pandas.plotting import scatter_matrix\n",
    "from sklearn.preprocessing import StandardScaler\n",
    "from sklearn.preprocessing import MinMaxScaler\n",
    "from sklearn.model_selection import train_test_split\n"
   ]
  },
  {
   "cell_type": "code",
   "execution_count": 3,
   "id": "6956c494",
   "metadata": {},
   "outputs": [],
   "source": [
    "test_data = read_csv('./test.csv')\n",
    "train_data = read_csv('./train.csv')"
   ]
  },
  {
   "cell_type": "code",
   "execution_count": 4,
   "id": "57fdf0f0",
   "metadata": {},
   "outputs": [],
   "source": [
    "x = train_data.drop(['PassengerId', 'Name', 'Survived'], axis=1)\n",
    "y = train_data['Survived']\n",
    "\n",
    "X_arr = x.values\n",
    "Y_arr = y.values\n",
    "\n",
    "x_train, x_test, y_train, y_test = train_test_split(x, y, test_size=0.20)"
   ]
  },
  {
   "cell_type": "code",
   "execution_count": null,
   "id": "8c3b910f",
   "metadata": {},
   "outputs": [],
   "source": []
  },
  {
   "cell_type": "markdown",
   "id": "cdb16286c188bd3a",
   "metadata": {},
   "source": [
    "## Conclusions\n"
   ]
  },
  {
   "cell_type": "markdown",
   "id": "ed152e301e9e8e6d",
   "metadata": {},
   "source": [
    "## References\n"
   ]
  },
  {
   "cell_type": "markdown",
   "id": "bb3a31453282c515",
   "metadata": {},
   "source": [
    "## Appendix\n",
    "\n",
    "https://github.com/aelichung/ml-titanic"
   ]
  },
  {
   "cell_type": "markdown",
   "id": "5edbae85fbadc0a7",
   "metadata": {},
   "source": []
  }
 ],
 "metadata": {
  "kernelspec": {
   "display_name": "Python 3",
   "language": "python",
   "name": "python3"
  },
  "language_info": {
   "codemirror_mode": {
    "name": "ipython",
    "version": 3
   },
   "file_extension": ".py",
   "mimetype": "text/x-python",
   "name": "python",
   "nbconvert_exporter": "python",
   "pygments_lexer": "ipython3",
   "version": "3.11.8"
  }
 },
 "nbformat": 4,
 "nbformat_minor": 5
}
