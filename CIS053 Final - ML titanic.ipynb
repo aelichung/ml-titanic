{
 "cells": [
  {
   "metadata": {},
   "cell_type": "markdown",
   "source": [
    "# CIS053 Final Project - ML Titanic\n",
    "Anne-Elise Chung\n",
    "Hernanda Mak"
   ],
   "id": "24d6f46d05fe3280"
  },
  {
   "metadata": {},
   "cell_type": "markdown",
   "source": "## Executive Summary",
   "id": "d20eb7fde3b06350"
  },
  {
   "metadata": {},
   "cell_type": "markdown",
   "source": "## Background\n",
   "id": "1da1b52cae6df832"
  },
  {
   "metadata": {},
   "cell_type": "markdown",
   "source": "## Survey of Existing Work\n",
   "id": "b9e97cacded21e0c"
  },
  {
   "metadata": {},
   "cell_type": "markdown",
   "source": "## Our Approach\n",
   "id": "87ea77fcaebd7b16"
  },
  {
   "metadata": {},
   "cell_type": "markdown",
   "source": "## Code and Results\n",
   "id": "e4b37c294d441fca"
  },
  {
   "metadata": {},
   "cell_type": "markdown",
   "source": "## Conclusions\n",
   "id": "cdb16286c188bd3a"
  },
  {
   "metadata": {},
   "cell_type": "markdown",
   "source": "## References\n",
   "id": "ed152e301e9e8e6d"
  },
  {
   "metadata": {},
   "cell_type": "markdown",
   "source": [
    "## Appendix\n",
    "\n",
    "https://github.com/aelichung/ml-titanic"
   ],
   "id": "bb3a31453282c515"
  },
  {
   "metadata": {},
   "cell_type": "markdown",
   "source": "",
   "id": "5edbae85fbadc0a7"
  }
 ],
 "metadata": {
  "kernelspec": {
   "display_name": "Python 3",
   "language": "python",
   "name": "python3"
  },
  "language_info": {
   "codemirror_mode": {
    "name": "ipython",
    "version": 2
   },
   "file_extension": ".py",
   "mimetype": "text/x-python",
   "name": "python",
   "nbconvert_exporter": "python",
   "pygments_lexer": "ipython2",
   "version": "2.7.6"
  }
 },
 "nbformat": 4,
 "nbformat_minor": 5
}
