{
 "cells": [
  {
   "cell_type": "markdown",
   "id": "24d6f46d05fe3280",
   "metadata": {},
   "source": [
    "# CIS053 Final Project - ML Titanic\n",
    "Anne-Elise Chung\n",
    "Hernanda Mak"
   ]
  },
  {
   "cell_type": "markdown",
   "id": "d20eb7fde3b06350",
   "metadata": {},
   "source": [
    "## Executive Summary\n",
    "\n",
    "todo -after everything else"
   ]
  },
  {
   "cell_type": "markdown",
   "id": "1da1b52cae6df832",
   "metadata": {},
   "source": [
    "## Background"
   ]
  },
  {
   "cell_type": "markdown",
   "id": "01717916",
   "metadata": {},
   "source": [
    "The purpose of this project is to build a predictive model that can classify the sort of passenger on Titatic that will most likely survive after the shipwreck. Moreover, we aim to discover the most influential features that affect the possibility of survival among the Titanic passengers.\n",
    "\n",
    "The sinking of the Titanic happened on April 15, 1912, where the resulting death of 1502 out of 2224 passengers led to global attention regarding safety of sea travelling and way to avoid another shipwreck of such sort. The major reason behind the disastrous outcome is the lack of lifeboats. Based on the collected data of survival history on the Titanic, we can understand and build a predictive model that would identify which type of poassenger could survive on such shipwreck."
   ]
  },
  {
   "cell_type": "markdown",
   "id": "9eb9ee839c054605",
   "metadata": {},
   "source": [
    "## Survey of Existing Work"
   ]
  },
  {
   "cell_type": "markdown",
   "id": "8bca7c6bc4228e6f",
   "metadata": {},
   "source": [
    "https://www.kaggle.com/code/abdmental01/exploring-data-visual-insights-unveiled#About-Function\n",
    "- Author: MUHAMMAD ABDULLAH\n",
    "- Techniques Used: this submission was purely showing some data visualization techniques, but it serves as a helpful comparison for the upcoming EDA work in this report.\n",
    "- Results:\n",
    "- ![results from data vis insights](exploring_data_vis_insights_revealed.png)"
   ]
  },
  {
   "cell_type": "markdown",
   "id": "3d211f37c9d89ca7",
   "metadata": {},
   "source": [
    "https://www.kaggle.com/code/gusthema/titanic-competition-w-tensorflow-decision-forests\n",
    "- Author: GUSTHEMA\n",
    "- Techniques Used: TensorFlow Decision Trees\n",
    "- Results: \n",
    "- Notes: This Kaggle submission received 675 upvotes, compared to many of the other submissions that only received 2 or 3 upvotes. The popularity of this post might indicate that the results and techniques are probably sound and would be good for comparison.\n"
   ]
  },
  {
   "cell_type": "markdown",
   "id": "b9e97cacded21e0c",
   "metadata": {},
   "source": [
    "https://www.kaggle.com/code/eneskosar19/titanic-sample-submission-random-forest\n",
    "- Author:\n",
    "- Techniques Used:\n",
    "- Results:\n"
   ]
  },
  {
   "cell_type": "markdown",
   "id": "83b04a430ea2b175",
   "metadata": {},
   "source": [
    "https://www.kaggle.com/code/whitedevil4648/neural-networks-titanic\n",
    "- Author: WHITEDEVIL4648\n",
    "- Techniques Used: neural networks\n",
    "- Results:\n",
    "- Notes: \n"
   ]
  },
  {
   "cell_type": "markdown",
   "id": "87ea77fcaebd7b16",
   "metadata": {},
   "source": [
    "## Our Approach\n"
   ]
  },
  {
   "cell_type": "markdown",
   "id": "a201378f",
   "metadata": {},
   "source": [
    "- EDA analysis\n",
    "- Eliminate unuseful features and data entry\n",
    "- Create classification models: ensemble trees (random forest, bagging , ADA boost), k-means clustering, decision tree classifier, SVM, logistic regression\n",
    "- Standardize and Normalize to see if a more reliable model could be built\n",
    "- Use cross validation to verify the accuracy of the models so to identify the best predictive model "
   ]
  },
  {
   "cell_type": "markdown",
   "id": "e4b37c294d441fca",
   "metadata": {},
   "source": [
    "## Code and Results\n"
   ]
  },
  {
   "cell_type": "code",
   "execution_count": 1,
   "id": "689293cf",
   "metadata": {},
   "outputs": [],
   "source": [
    "import pandas as pd\n",
    "from pandas import read_csv\n",
    "import matplotlib.pyplot as plt\n",
    "from numpy import set_printoptions\n",
    "from pandas import set_option\n",
    "from pandas.plotting import scatter_matrix\n",
    "from sklearn.preprocessing import StandardScaler\n",
    "from sklearn.preprocessing import MinMaxScaler\n",
    "from sklearn.model_selection import train_test_split\n"
   ]
  },
  {
   "cell_type": "code",
   "execution_count": 3,
   "id": "6956c494",
   "metadata": {},
   "outputs": [],
   "source": [
    "test_data = read_csv('./test.csv')\n",
    "train_data = read_csv('./train.csv')"
   ]
  },
  {
   "cell_type": "code",
   "execution_count": 4,
   "id": "57fdf0f0",
   "metadata": {},
   "outputs": [],
   "source": [
    "x = train_data.drop(['PassengerId', 'Name', 'Survived'], axis=1)\n",
    "y = train_data['Survived']\n",
    "\n",
    "X_arr = x.values\n",
    "Y_arr = y.values\n",
    "\n",
    "x_train, x_test, y_train, y_test = train_test_split(x, y, test_size=0.20)"
   ]
  },
  {
   "cell_type": "code",
   "execution_count": null,
   "id": "8c3b910f",
   "metadata": {},
   "outputs": [],
   "source": []
  },
  {
   "cell_type": "markdown",
   "id": "cdb16286c188bd3a",
   "metadata": {},
   "source": [
    "## Conclusions\n",
    "todo -after everything else"
   ]
  },
  {
   "cell_type": "markdown",
   "id": "ed152e301e9e8e6d",
   "metadata": {},
   "source": [
    "## References\n"
   ]
  },
  {
   "cell_type": "markdown",
   "id": "bb3a31453282c515",
   "metadata": {},
   "source": [
    "## Appendix\n",
    "\n",
    "https://github.com/aelichung/ml-titanic"
   ]
  },
  {
   "cell_type": "markdown",
   "id": "5edbae85fbadc0a7",
   "metadata": {},
   "source": []
  }
 ],
 "metadata": {
  "kernelspec": {
   "display_name": "Python 3",
   "language": "python",
   "name": "python3"
  },
  "language_info": {
   "codemirror_mode": {
    "name": "ipython",
    "version": 3
   },
   "file_extension": ".py",
   "mimetype": "text/x-python",
   "name": "python",
   "nbconvert_exporter": "python",
   "pygments_lexer": "ipython3",
   "version": "3.11.8"
  }
 },
 "nbformat": 4,
 "nbformat_minor": 5
}
